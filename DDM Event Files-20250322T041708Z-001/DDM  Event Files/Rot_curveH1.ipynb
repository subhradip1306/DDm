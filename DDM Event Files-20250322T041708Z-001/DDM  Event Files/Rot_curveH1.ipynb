{
 "cells": [
  {
   "cell_type": "code",
   "execution_count": null,
   "metadata": {},
   "outputs": [],
   "source": [
    "%matplotlib inline\n",
    "import matplotlib as mpl\n",
    "import matplotlib.pyplot as plt\n",
    "\n",
    "import latex\n",
    "import scienceplots\n",
    "plt.style.use(['science','notebook', 'grid'])\n",
    "\n",
    "import numpy as np\n",
    "import pandas as pd\n",
    "\n",
    "\n",
    "# Suppress warnings. Comment this out if you wish to see the warning messages\n",
    "import warnings\n",
    "warnings.filterwarnings('ignore')"
   ]
  },
  {
   "cell_type": "code",
   "execution_count": null,
   "metadata": {},
   "outputs": [],
   "source": [
    "GalLong = np.array([15,25,35,45,55,65,75,85]) # galactic longitudes\n",
    "#Dont include data for l > 90 deg longitudes\n",
    "Rsun = 8.5 #kpc Distance of sun from galactic center\n",
    "Vsun = 220 #km/s circular velcoity of sun about galactic center"
   ]
  },
  {
   "cell_type": "markdown",
   "metadata": {},
   "source": [
    "$$V_{obs} = v_{source} - V_{sun} \\sin{l} $$\n",
    "$$ v_{source} = V_{obs} + V_{sun} \\sin{l}$$\n",
    "\n",
    "$v_{obs}$ is the (observed) rightmost (maximum) value of peak in corrected velocity v/s T_brightness plot\n",
    "\n",
    "$R$ is the radial distance of the source from Galactic center. \n",
    "$$R = R_{sun}  \\sin{l}$$"
   ]
  },
  {
   "cell_type": "code",
   "execution_count": null,
   "metadata": {},
   "outputs": [],
   "source": [
    "#Dont include data for l > 90 deg longitudes\n",
    "v_obs = np.array([])#km/s"
   ]
  },
  {
   "cell_type": "code",
   "execution_count": null,
   "metadata": {},
   "outputs": [],
   "source": [
    "vSource =\n",
    "R = "
   ]
  },
  {
   "cell_type": "code",
   "execution_count": null,
   "metadata": {},
   "outputs": [],
   "source": [
    "R"
   ]
  },
  {
   "cell_type": "code",
   "execution_count": null,
   "metadata": {},
   "outputs": [],
   "source": [
    "plt.figure(figsize=(8, 5))\n",
    "#always give proper axislabels with units whichever whenever you want to plot any graph\n",
    "\n",
    "plt.tick_params(axis='both', which='major', labelsize=10)  # For major ticks\n",
    "plt.scatter(R,vSource,c='k')\n",
    "\n",
    "# plt.savefig('rot_curve.png',dpi=500,facecolor='w')\n",
    "plt.show()"
   ]
  }
 ],
 "metadata": {
  "kernelspec": {
   "display_name": "dark_gaps",
   "language": "python",
   "name": "python3"
  },
  "language_info": {
   "codemirror_mode": {
    "name": "ipython",
    "version": 3
   },
   "file_extension": ".py",
   "mimetype": "text/x-python",
   "name": "python",
   "nbconvert_exporter": "python",
   "pygments_lexer": "ipython3",
   "version": "3.12.3"
  }
 },
 "nbformat": 4,
 "nbformat_minor": 2
}
